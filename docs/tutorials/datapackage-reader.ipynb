{
 "cells": [
  {
   "cell_type": "markdown",
   "metadata": {},
   "source": [
    "# Using the datapackage-reader"
   ]
  },
  {
   "cell_type": "code",
   "execution_count": null,
   "metadata": {},
   "outputs": [],
   "source": [
    "import os\n",
    "import pandas as pd\n",
    "import pkg_resources as pkg\n",
    "import pprint \n",
    "\n",
    "from pyomo.opt import SolverFactory\n",
    "from oemof.solph import EnergySystem, Model\n",
    "from oemof.tabular.facades import TYPEMAP\n",
    "import oemof.tabular.tools.postprocessing as pp\n",
    "\n",
    "from oemof.tabular import datapackage"
   ]
  },
  {
   "cell_type": "markdown",
   "metadata": {},
   "source": [
    "## Setting Path to Datapackage \n",
    "\n",
    "The package comes with some example datapackage that you can use for testing. You can adapt this path to point to your datapackage. This scripts should work without any necessary additional changes. "
   ]
  },
  {
   "cell_type": "code",
   "execution_count": null,
   "metadata": {},
   "outputs": [],
   "source": [
    "name = \"investment\" # choose from ['dispatch', 'investment']\n",
    "\n",
    "# path to directory with datapackage to load\n",
    "datapackage_dir = pkg.resource_filename(\n",
    "    \"oemof.tabular\", \"examples/datapackages/{}\".format(name)\n",
    ")\n"
   ]
  },
  {
   "cell_type": "markdown",
   "metadata": {},
   "source": [
    "The results path points to your home directory, a subdirectory oemof-results and the name of the datapackage specified above."
   ]
  },
  {
   "cell_type": "code",
   "execution_count": null,
   "metadata": {},
   "outputs": [],
   "source": [
    "# create  path for results (we use the datapackage_dir to store results)\n",
    "results_path = os.path.join(os.path.expanduser(\"~\"), \"oemof-results\", name, \"output\")\n",
    "if not os.path.exists(results_path):\n",
    "    os.makedirs(results_path)"
   ]
  },
  {
   "cell_type": "markdown",
   "metadata": {},
   "source": [
    "## Setting `attributmap` and `typemap`\n",
    "\n",
    "The two arguments allow for adjusting the datapackage reader to your needs. The `attribute` map lets you specifiy to \n",
    "map column names of your datapackage resource (field names) to the facades. Take the following example: \n",
    "\n",
    "The `Load` facade requires the argument `amount`. If you like (for whatever reason) to use a different naming in your csv-file like `total_energy` you can do this be specifying the following: \n",
    "\n",
    "```\n",
    "from oemof.tabular import facades as fc\n",
    "\n",
    "...\n",
    "\n",
    "attributemap = {\n",
    "    fc.Load: {'amount', 'total_energy'}\n",
    "}\n",
    "```\n",
    "\n",
    "So you can set the attribute map individually for all facades. However, we will use no mapping here for `attributemap` argument. "
   ]
  },
  {
   "cell_type": "code",
   "execution_count": null,
   "metadata": {},
   "outputs": [],
   "source": [
    "attributemap= {}"
   ]
  },
  {
   "cell_type": "markdown",
   "metadata": {},
   "source": [
    "The `typemap` argument can be specified for your field (column name) `type` that specifcies which facade class should be used for instantiating the objects. We provide a default typemap. If you add your own facade classes, you **must** add these to typemap\n",
    "\n",
    "```\n",
    "typemap.update(\n",
    "    {'my_new_class': my_class}\n",
    ")\n",
    "```\n",
    "\n"
   ]
  },
  {
   "cell_type": "code",
   "execution_count": null,
   "metadata": {},
   "outputs": [],
   "source": [
    "typemap = TYPEMAP\n",
    "\n",
    "# Look at current typemap\n",
    "pprint.pprint(typemap)"
   ]
  },
  {
   "cell_type": "markdown",
   "metadata": {},
   "source": [
    "## Create EnergySystem from Datapackage\n",
    "\n",
    "Using the `.from_datapackge` method, creating your EnergySystem is straight forward"
   ]
  },
  {
   "cell_type": "code",
   "execution_count": null,
   "metadata": {},
   "outputs": [],
   "source": [
    "# create energy system object\n",
    "es = EnergySystem.from_datapackage(\n",
    "    os.path.join(datapackage_dir, \"datapackage.json\"),\n",
    "    attributemap=attributemap,\n",
    "    typemap=typemap,\n",
    ")\n",
    "pprint.pprint(\n",
    "    {n.label: n for n in es.nodes}\n",
    ")"
   ]
  },
  {
   "cell_type": "markdown",
   "metadata": {},
   "source": [
    "## Create Model \n",
    "\n",
    "This again is straight forward and just the way you would use the `oemof.solph` package. "
   ]
  },
  {
   "cell_type": "code",
   "execution_count": null,
   "metadata": {},
   "outputs": [],
   "source": [
    "# check if the coin-branch-and-cut (cbc) solver library is available\n",
    "cbc = SolverFactory('cbc').available()\n",
    "\n",
    "if cbc:\n",
    "    # create model from energy system (this is just oemof.solph)\n",
    "    m = Model(es)\n",
    "\n",
    "    # if you want dual variables / shadow prices uncomment line below\n",
    "    # m.receive_duals()\n",
    "\n",
    "    # select solver 'gurobi', 'cplex', 'glpk' etc\n",
    "    m.solve(\"cbc\")\n",
    "\n",
    "    # get the results from the the solved model(still oemof.solph)\n",
    "    results = m.results()"
   ]
  },
  {
   "cell_type": "markdown",
   "metadata": {},
   "source": [
    "## Writing Results\n",
    "\n",
    "The nice thing about `oemof.tabular.facades` classes is their data model that allows for writing results in a standardized way. If you want more indidual result postprocessing, you can use all functionalities of the `oemof.outputlib` as the results object is a standard object. "
   ]
  },
  {
   "cell_type": "code",
   "execution_count": null,
   "metadata": {},
   "outputs": [],
   "source": [
    "if cbc:\n",
    "    # now we use the write results method to write the results in oemof-tabular\n",
    "    # format\n",
    "    pp.write_results(m, results, results_path)\n",
    "\n"
   ]
  },
  {
   "cell_type": "markdown",
   "metadata": {},
   "source": [
    "## Postprocessing Results"
   ]
  },
  {
   "cell_type": "code",
   "execution_count": null,
   "metadata": {},
   "outputs": [],
   "source": [
    "if cbc:\n",
    "    print(os.listdir(results_path))\n",
    "    bus = 'bus0'\n",
    "    path = os.path.join(results_path, (\"\").join([bus, '.csv']))\n",
    "    df = pd.read_csv(path, index_col=0, parse_dates=True)\n"
   ]
  }
 ],
 "metadata": {
  "@webio": {
   "lastCommId": null,
   "lastKernelId": null
  },
  "kernelspec": {
   "display_name": "Python 3",
   "language": "python",
   "name": "python3"
  },
  "language_info": {
   "codemirror_mode": {
    "name": "ipython",
    "version": 3
   },
   "file_extension": ".py",
   "mimetype": "text/x-python",
   "name": "python",
   "nbconvert_exporter": "python",
   "pygments_lexer": "ipython3",
   "version": "3.6.9"
  }
 },
 "nbformat": 4,
 "nbformat_minor": 2
}
