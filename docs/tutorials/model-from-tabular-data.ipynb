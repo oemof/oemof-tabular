{
 "cells": [
  {
   "cell_type": "markdown",
   "metadata": {},
   "source": [
    "# Creating energy systems from spreadsheet\n",
    "\n",
    "\n"
   ]
  },
  {
   "cell_type": "code",
   "execution_count": null,
   "metadata": {},
   "outputs": [],
   "source": [
    "import os\n",
    "import pkg_resources as pkg\n",
    "import pandas as pd \n",
    "\n",
    "from pyomo.opt import SolverFactory\n",
    "from oemof.solph import EnergySystem, Model, Bus\n",
    "from oemof.tools.economics import annuity as annuity\n",
    "from oemof.solph import constraints\n",
    "import oemof.tabular.tools.postprocessing as pp\n",
    "import oemof.tabular.facades as fc"
   ]
  },
  {
   "cell_type": "markdown",
   "metadata": {},
   "source": [
    "## Creating and Setting the Datapaths"
   ]
  },
  {
   "cell_type": "markdown",
   "metadata": {},
   "source": [
    "Setting the datapath for raw-data and results. Data handling looks more complex than it is. You can easily adapt this to a simple `pd.read_excel(filepath,...)` in the next block if your file is located somewhere else. Otherwise we will use data from the oemof tabular repository. \n",
    "\n",
    "In addition a results directory will be created in `home/user/oemof-results/dispatch/output`. "
   ]
  },
  {
   "cell_type": "code",
   "execution_count": null,
   "metadata": {},
   "outputs": [],
   "source": [
    "scenario_name = \"base-scenario\"\n",
    "\n",
    "# datapath for input data from the oemof tabular pacakge\n",
    "datapath = os.path.join(\n",
    "    pkg.resource_filename(\"oemof.tabular\", \"\"),\n",
    "    \"data/data.xls\",\n",
    ")\n",
    "\n",
    "# results path\n",
    "results_path = os.path.join(\n",
    "    os.path.expanduser(\"~\"), \"oemof-results\"\n",
    ")\n",
    "\n",
    "scenario_path = os.path.join(\n",
    "    results_path, scenario_name, \"output\"\n",
    ")\n",
    "\n",
    "if not os.path.exists(scenario_path):\n",
    "    os.makedirs(scenario_path)\n",
    "print(scenario_path)\n"
   ]
  },
  {
   "cell_type": "markdown",
   "metadata": {},
   "source": [
    "Next we will read the required input data. The profiles index will be used for the `EnergySystem` object below. \n",
    "All generator data etc. will also be loaded. "
   ]
  },
  {
   "cell_type": "code",
   "execution_count": null,
   "metadata": {},
   "outputs": [],
   "source": [
    "file = pd.ExcelFile(datapath)\n",
    "\n",
    "sheet_names = [typ for typ in file.sheet_names if typ in fc.TYPEMAP.keys()]\n",
    "\n",
    "data = {}\n",
    "\n",
    "for sheet in sheet_names: \n",
    "    data[sheet]= pd.read_excel(datapath, sheet_name=sheet, index_col=0)\n",
    "\n",
    "# profiles and tech data not be part of TYPEMAP and need to be read seperately\n",
    "profiles = pd.read_excel(\n",
    "    datapath,\n",
    "    sheet_name=\"profiles\",\n",
    "    index_col=[0],\n",
    "    parse_dates=True,\n",
    ")\n",
    "profiles.index.freq = \"1H\"\n",
    "\n",
    "technology = pd.read_excel(\n",
    "    datapath, sheet_name=\"technology-data\", index_col=[0, 1]\n",
    ")\n",
    "carrier = pd.read_excel(\n",
    "    datapath, sheet_name=\"carrier\", index_col=[0]\n",
    ")"
   ]
  },
  {
   "cell_type": "code",
   "execution_count": null,
   "metadata": {},
   "outputs": [],
   "source": [
    "all_components = pd.concat([v for k, v in data.items() if k != \"bus\"], sort=False)\n",
    "# Only be used for Latex export of tables \n",
    "#columns = ['profile', 'capacity_potential']\n",
    "#print(all_components.to_latex(columns=columns, na_rep=\"-\"))"
   ]
  },
  {
   "cell_type": "markdown",
   "metadata": {},
   "source": [
    "## Creating the EnergySystem and its Nodes\n",
    "\n",
    "We are starting by creating a `EnergySystem` object which will hold all information (nodes, etc.) of hour energy system that we will add below. This is just the standard way of using the `oemof.solph` library for your modelling."
   ]
  },
  {
   "cell_type": "code",
   "execution_count": null,
   "metadata": {},
   "outputs": [],
   "source": [
    "es = EnergySystem(timeindex=profiles.index)"
   ]
  },
  {
   "cell_type": "markdown",
   "metadata": {},
   "source": [
    "### Add Bus\n",
    "\n",
    "Before we add any components we will create all bus objects for our model and add it to the energy system object."
   ]
  },
  {
   "cell_type": "code",
   "execution_count": null,
   "metadata": {},
   "outputs": [],
   "source": [
    "buses = {\n",
    "    name: Bus(label=name, balanced=bool(arg.balanced))\n",
    "    for name, arg in data[\"bus\"].iterrows()\n",
    "}\n",
    "es.add(*buses.values())\n"
   ]
  },
  {
   "cell_type": "markdown",
   "metadata": {},
   "source": [
    "#### Bus Constraints \n",
    "\n",
    "With the set of all Buses $B$ all inputs $x^{flow}_{i(b),b}$ to a bus $b$ must equal all its outputs $x^{flow}_{b,o(b)}$\n",
    "\n",
    "$$\\sum_i x^{flow}_{i(b), b}(t) - \\sum_o x^{flow}_{b, o(b)}(t) = 0 \\qquad \\forall t \\in T, \\forall b \\in B$$\n",
    "\n",
    "This equation will be build once the complete energy system is setup with its component. Every time a `Component` is created, the connected bus inputs/outputs will be updated. By this update every bus has all required information of its inputs and outputs available to construct the constraints. \n"
   ]
  },
  {
   "cell_type": "markdown",
   "metadata": {},
   "source": [
    "### Add Load\n"
   ]
  },
  {
   "cell_type": "code",
   "execution_count": null,
   "metadata": {},
   "outputs": [],
   "source": [
    "for name, l in data[\"load\"].iterrows():\n",
    "    es.add(\n",
    "        fc.Load(\n",
    "            label=name,\n",
    "            bus=buses[\n",
    "                l.bus\n",
    "            ],  # reference the bus in the buses dictionary\n",
    "            amount=l.amount,  # amount column\n",
    "            profile=profiles[l.profile],\n",
    "        )\n",
    "    )\n"
   ]
  },
  {
   "cell_type": "markdown",
   "metadata": {},
   "source": [
    "#### Load Constraint \n",
    "\n",
    "For the set of all Load denoted with $l \\in L$ the load $x_l$ at timestep t equals the exogenously defined  profile value $c^{profile}_l$ multiplied by the amount of this load $c^{amount}_l$\n",
    "\n",
    "$$ x^{flow}_{l}(t) = c^{profile}_{l}(t) \\cdot c^{amount}_{l} \\qquad \\forall t \\in T, \\forall l \\in L$$"
   ]
  },
  {
   "cell_type": "markdown",
   "metadata": {},
   "source": [
    "### Add Generators\n"
   ]
  },
  {
   "cell_type": "code",
   "execution_count": null,
   "metadata": {},
   "outputs": [],
   "source": [
    "for name, g in data[\"dispatchable\"].iterrows():\n",
    "    es.add(\n",
    "        fc.Dispatchable(\n",
    "            label=name,\n",
    "            bus=buses[g.bus],\n",
    "            carrier=g.carrier,\n",
    "            tech=g.tech,\n",
    "            marginal_cost=(\n",
    "                carrier.at[g.carrier, \"cost\"]\n",
    "                / technology.at[\n",
    "                    (g.carrier, g.tech), \"efficiency\"\n",
    "                ]\n",
    "            ),\n",
    "            # efficiency=technology.at[(g.carrier, g.tech), 'efficiency'],\n",
    "            expandable=g.expandable,\n",
    "            capacity=g.capacity,\n",
    "            capacity_potential=g.capacity_potential,\n",
    "            capacity_cost=annuity(\n",
    "                technology.at[\n",
    "                    (g.carrier, g.tech), \"capex\"\n",
    "                ],  # to $/MW\n",
    "                technology.at[\n",
    "                    (g.carrier, g.tech), \"lifetime\"\n",
    "                ],\n",
    "                0.07,\n",
    "            )\n",
    "            * 1000,\n",
    "            output_parameters={\n",
    "                \"emission_factor\": (\n",
    "                    carrier.at[g.carrier, \"emission_factor\"]\n",
    "                    / technology.at[\n",
    "                        (g.carrier, g.tech), \"efficiency\"\n",
    "                    ]\n",
    "                )\n",
    "            },\n",
    "        )\n",
    "    )\n"
   ]
  },
  {
   "cell_type": "markdown",
   "metadata": {},
   "source": [
    "#### Dispatchable Generator Constraint\n",
    "\n",
    "A `Generator` component can be used to model all types of dispatchble units in a energy system. This can include diesel generators oder coal fired power plants but also hot water boilers for heat. Every generator **must** be connected to an `Bus` object. \n",
    "\n",
    "This basic mathematical model for the component with the set of all dispatchable generators being $d \\in D$ looks as follows:\n",
    "\n",
    "$$x^{flow}_{d}(t) \\leq x^{capacity}_{d} \\qquad \\forall t \\in T,  \\forall d \\in D$$\n",
    "\n",
    "Meaning, the production of the generator $x^{flow}$ must be less than its maximum capacity $c^{max}$ in every timestep. "
   ]
  },
  {
   "cell_type": "code",
   "execution_count": null,
   "metadata": {},
   "outputs": [],
   "source": [
    "for name, v in data[\"volatile\"].iterrows():\n",
    "    es.add(\n",
    "        fc.Volatile(\n",
    "            label=name,\n",
    "            bus=buses[v.bus],\n",
    "            carrier=v.carrier,\n",
    "            tech=v.tech,\n",
    "            expandable=v.expandable,\n",
    "            capacity=v.capacity,\n",
    "            capacity_potential=v.capacity_potential,\n",
    "            capacity_cost=annuity(\n",
    "                technology.at[(v.carrier, v.tech), \"capex\"],\n",
    "                technology.at[\n",
    "                    (v.carrier, v.tech), \"lifetime\"\n",
    "                ],\n",
    "                0.07,\n",
    "            )\n",
    "            * 1000,  # $/kW -> $/MW\n",
    "            profile=profiles[v.profile],\n",
    "        )\n",
    "    )\n"
   ]
  },
  {
   "cell_type": "markdown",
   "metadata": {},
   "source": [
    "#### Volatile Generator Constraint \n",
    "\n",
    "Using the `Generator` component with `output_parameters={\"fixed\": True}` is very similar to the Dispatchable component. However, in this case the flow of the volatile components denoted with $v \\in V$  will be fixed to a specific value.\n",
    "\n",
    "$$ x^{flow}_{v}(t) = c^{profile}_{v}(t) \\cdot x^{capacity}_{v} \\qquad \\forall t \\in T, \\forall v \\in V$$\n",
    "\n",
    "Alternatively you can use the `Volatile` component which automatically enforced the fixed behaviour. "
   ]
  },
  {
   "cell_type": "markdown",
   "metadata": {},
   "source": [
    "### Add Storage"
   ]
  },
  {
   "cell_type": "code",
   "execution_count": null,
   "metadata": {},
   "outputs": [],
   "source": [
    "for name, s in data[\"storage\"].iterrows():\n",
    "    es.add(\n",
    "        fc.Storage(\n",
    "            label=name,\n",
    "            bus=buses[s.bus],\n",
    "            carrier=s.carrier,\n",
    "            tech=s.tech,\n",
    "            marginal_cost=s.marginal_cost,\n",
    "            capacity=s.capacity,\n",
    "            storage_capacity=s.storage_capacity,\n",
    "            expandable=s.expandable,\n",
    "            efficiency=technology.at[\n",
    "                (s.carrier, s.tech), \"efficiency\"\n",
    "            ],\n",
    "            loss_rate=s.loss_rate,\n",
    "            storage_capacity_cost=annuity(\n",
    "                technology.at[\n",
    "                    (s.carrier, s.tech), \"storage_capex\"\n",
    "                ],\n",
    "                technology.at[\n",
    "                    (s.carrier, s.tech), \"lifetime\"\n",
    "                ],\n",
    "                0.07,\n",
    "            )\n",
    "            * 1000,  # $/kW -> $/MW\n",
    "            capacity_cost=annuity(\n",
    "                technology.at[(s.carrier, s.tech), \"capex\"],\n",
    "                technology.at[\n",
    "                    (s.carrier, s.tech), \"lifetime\"\n",
    "                ],\n",
    "                0.07,\n",
    "            )\n",
    "            * 1000,  # $/kW -> $/MW\n",
    "        )\n",
    "    )\n"
   ]
  },
  {
   "cell_type": "markdown",
   "metadata": {},
   "source": [
    "#### Storage Constraints \n",
    "\n",
    "The mathematical representation of the storage for all storages $s \\in S$ will include the flow into the storage, out of the storage and a storage level. The defaul efficiency for input/output is 1. Note that this is is included during charge and discharge. If you want to set the round trip efficiency you need to do for example: $\\eta = \\sqrt{\\eta^{roundtrip}}$\n",
    "\n",
    "Intertemporal energy balance of the storage:\n",
    "\n",
    "$$ x^{level}_{s}(t) = \\eta^{loss} x^{level}_{s}(t) + \\eta^{in} x^{flow}_{s, in} - \\frac{x^{flow}_{s, out}(t)}{\\eta^{out}} \\qquad \\forall t \\in T,  \\forall s \\in S$$ \n",
    "\n",
    "Bounds of the storage level variable $x^{level}_s(t)$:\n",
    "\n",
    "$$ x^{level}_s(t) \\leq c_s^{max,level} \\qquad \\forall t \\in T,  \\forall s \\in S$$\n",
    "\n",
    "\n",
    "$$ x^{level}_s(1) = x_s^{level}(t_{e}) = 0.5 \\cdot c_s^{max,level} \\qquad \\forall t \\in T,  \\forall s \\in S$$ \n",
    "\n",
    "Of course, in addition the inflow/outflow of the storage also needs to be within the limit of the minimum and maximum power. \n",
    "\n",
    "$$ -c_s^{capacity} \\leq x^{flow}_s(t) \\leq c_s^{capacity} \\qquad \\forall t \\in T, \\forall s \\in S$$ \n"
   ]
  },
  {
   "cell_type": "markdown",
   "metadata": {},
   "source": [
    "### Add Conversion \n",
    "\n",
    "A conversion unit will take from a bus and feed into another: \n",
    "\n",
    "$$x^{flow}_{c, to}(t) = c^{efficiencty}_{c} \\cdot x^{flow}_{c, from}(t), \\qquad \\forall c  \\in C, \\forall t \\in T$$ "
   ]
  },
  {
   "cell_type": "code",
   "execution_count": null,
   "metadata": {},
   "outputs": [],
   "source": [
    "for name, c in data[\"conversion\"].iterrows():\n",
    "    es.add(\n",
    "        fc.Conversion(\n",
    "            label=name,\n",
    "            from_bus=buses[c.from_bus],\n",
    "            to_bus=buses[c.to_bus],\n",
    "            carrier=c.carrier,\n",
    "            tech=c.tech,\n",
    "            efficiency=technology.at[\n",
    "                (c.carrier, c.tech), \"efficiency\"\n",
    "            ],\n",
    "            marginal_cost=(\n",
    "                carrier.at[c.carrier, \"cost\"]\n",
    "                / technology.at[\n",
    "                    (c.carrier, c.tech), \"efficiency\"\n",
    "                ]\n",
    "            ),\n",
    "            expandable=c.expandable,\n",
    "            capacity=c.capacity,\n",
    "            capacity_potential=c.capacity_potential,\n",
    "            capacity_cost=annuity(\n",
    "                technology.at[(c.carrier, c.tech), \"capex\"],\n",
    "                technology.at[\n",
    "                    (c.carrier, c.tech), \"lifetime\"\n",
    "                ],\n",
    "                0.07,\n",
    "            )\n",
    "            * 1000,  # $/kW -> $/MW\n",
    "            output_parameters={\n",
    "                \"emission_factor\": (\n",
    "                    carrier.at[c.carrier, \"emission_factor\"]\n",
    "                    / technology.at[\n",
    "                        (c.carrier, c.tech), \"efficiency\"\n",
    "                    ]\n",
    "                )\n",
    "            },\n",
    "        )\n",
    "    )\n"
   ]
  },
  {
   "cell_type": "markdown",
   "metadata": {},
   "source": [
    "### Add Commodity"
   ]
  },
  {
   "cell_type": "code",
   "execution_count": null,
   "metadata": {},
   "outputs": [],
   "source": [
    "for name, c in data[\"commodity\"].iterrows():\n",
    "    es.add(\n",
    "        fc.Commodity(\n",
    "            label=name,\n",
    "            bus=buses[c.bus],\n",
    "            carrier=c.carrier,\n",
    "            tech=c.tech,\n",
    "            amount=c.amount,\n",
    "        )\n",
    "    )\n"
   ]
  },
  {
   "cell_type": "markdown",
   "metadata": {},
   "source": [
    "### Add Link"
   ]
  },
  {
   "cell_type": "code",
   "execution_count": null,
   "metadata": {},
   "outputs": [],
   "source": [
    "for name, c in data[\"link\"].iterrows():\n",
    "    es.add(\n",
    "        fc.Link(\n",
    "            label=name,\n",
    "            from_bus=buses[c.from_bus],\n",
    "            to_bus=buses[c.to_bus],\n",
    "            capacity=c.capacity,\n",
    "            expandable=True,\n",
    "            capacity_cost=99999,\n",
    "            loss=c.loss\n",
    "        )\n",
    "    )"
   ]
  },
  {
   "cell_type": "markdown",
   "metadata": {},
   "source": [
    "### Objective Function \n",
    "\n",
    "The objective function is created from all instantiated objects. It will use all operating costs (i.e. `marginal_cost` argument) and if set all investment costs (i.e. `capacity_cost` argument)\n",
    "\n",
    "$$ \\text{min:} \\sum_g \\sum_t \\overbrace{c^{marginal\\_cost}_g \\cdot x^{flow}_{g}(t)}^{\\text{operating cost}} \\\\ \n",
    "\\sum_g \\sum_t \\overbrace{c^{capacity\\_cost}_g \\cdot x^{capacity}_{g}(t)}^{\\text{investment cost}} $$"
   ]
  },
  {
   "cell_type": "markdown",
   "metadata": {},
   "source": [
    "### Add Shortage/Excess Slack Components"
   ]
  },
  {
   "cell_type": "code",
   "execution_count": null,
   "metadata": {},
   "outputs": [],
   "source": [
    "for name, e in data[\"excess\"].iterrows():\n",
    "    es.add(fc.Excess(label=name, bus=buses[e.bus]))\n",
    "\n",
    "for name, s in data[\"shortage\"].iterrows():\n",
    "    es.add(\n",
    "        fc.Shortage(\n",
    "            label=name,\n",
    "            carrier=\"electricity\",\n",
    "            tech=\"shortage\",\n",
    "            bus=buses[s.bus],\n",
    "            marginal_cost=s.marginal_cost,\n",
    "        )\n",
    "    )\n"
   ]
  },
  {
   "cell_type": "markdown",
   "metadata": {},
   "source": [
    "## Creating the Mathematical Model"
   ]
  },
  {
   "cell_type": "code",
   "execution_count": null,
   "metadata": {},
   "outputs": [],
   "source": [
    "# create model based on energy system and its components\n",
    "m = Model(es)\n",
    "\n",
    "# inspect objective function\n",
    "# m.objective.pprint()\n",
    "\n",
    "m.receive_duals()"
   ]
  },
  {
   "cell_type": "markdown",
   "metadata": {},
   "source": [
    "### Add CO2 Constraint\n",
    "\n",
    "To add a CO2-constraint we will use the `oemof.solph.constraints` module which allows to add such a constraint in a easy way. \n",
    "\n",
    "$$ \\sum_t \\sum_f  x^{flow}_f(t) \\cdot c^{emission\\_factor}_f \\leq \\overline{L_{CO_2}} $$\n",
    "\n",
    "The constraint will sum all flows for the complete time horzion that have an attribute `emission_factor` and multiple the flow value with this factor. "
   ]
  },
  {
   "cell_type": "code",
   "execution_count": null,
   "metadata": {},
   "outputs": [],
   "source": [
    "#m = constraints.emission_limit(m, limit=0)\n",
    "m.write(io_options={\"symbolic_solver_labels\":True})"
   ]
  },
  {
   "cell_type": "markdown",
   "metadata": {},
   "source": [
    "## Solving the Model and Writing Results"
   ]
  },
  {
   "cell_type": "code",
   "execution_count": null,
   "metadata": {},
   "outputs": [],
   "source": [
    "# check if cbc solver library is available\n",
    "cbc = SolverFactory('cbc').available()\n",
    "\n",
    "if cbc:\n",
    "    #  solve the model using cbc solver\n",
    "    m.solve(\"cbc\")\n",
    "\n",
    "    # write results back to the model object\n",
    "    m.results = m.results()\n",
    "\n",
    "    # writing results with the standard oemof-tabular output formatt\n",
    "    pp.write_results(m, m.results, scenario_path)\n",
    "\n",
    "    print(\n",
    "        \"Optimization done. Results are in {}.\".format(\n",
    "            results_path\n",
    "        )\n",
    "    )\n",
    "\n",
    "    # write the lp-file\n",
    "    # m.write(io_options={'symbolic_solver_labels': True})\n"
   ]
  },
  {
   "cell_type": "markdown",
   "metadata": {},
   "source": [
    "## Result Analysis"
   ]
  },
  {
   "cell_type": "markdown",
   "metadata": {},
   "source": [
    "## Plotting the Results"
   ]
  },
  {
   "cell_type": "code",
   "execution_count": null,
   "metadata": {},
   "outputs": [],
   "source": [
    "if cbc:\n",
    "    import os\n",
    "    from plotly import offline\n",
    "    from oemof.tabular.tools.plots import (\n",
    "        hourly_plot,\n",
    "        stacked_plot,\n",
    "    )\n",
    "\n",
    "    offline.init_notebook_mode(connected=True)\n",
    "\n",
    "\n",
    "    offline.iplot(\n",
    "        hourly_plot(\n",
    "            scenario_name,\n",
    "            \"north-bus\",\n",
    "            os.path.join(\n",
    "                os.path.expanduser(\"~\"), \"oemof-results\"\n",
    "            ),\n",
    "            plot_filling_levels=False,\n",
    "        ),\n",
    "        filename=os.path.join(\n",
    "            scenario_path, \"hourly-plot.html\"\n",
    "        ),\n",
    "    )\n"
   ]
  }
 ],
 "metadata": {
  "@webio": {
   "lastCommId": null,
   "lastKernelId": null
  },
  "kernelspec": {
   "display_name": "Python 3",
   "language": "python",
   "name": "python3"
  },
  "language_info": {
   "codemirror_mode": {
    "name": "ipython",
    "version": 3
   },
   "file_extension": ".py",
   "mimetype": "text/x-python",
   "name": "python",
   "nbconvert_exporter": "python",
   "pygments_lexer": "ipython3",
   "version": "3.6.9"
  }
 },
 "nbformat": 4,
 "nbformat_minor": 2
}
